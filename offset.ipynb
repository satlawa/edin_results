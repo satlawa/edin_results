{
 "cells": [
  {
   "cell_type": "code",
   "execution_count": 1,
   "metadata": {},
   "outputs": [],
   "source": [
    "## importing the required packages\n",
    "from time import time\n",
    "import numpy as np\n",
    "import matplotlib.pyplot as plt\n",
    "from matplotlib import offsetbox\n",
    "from sklearn import (manifold, datasets, decomposition, ensemble,\n",
    "            discriminant_analysis, random_projection)"
   ]
  },
  {
   "cell_type": "code",
   "execution_count": null,
   "metadata": {},
   "outputs": [],
   "source": []
  },
  {
   "cell_type": "code",
   "execution_count": 1,
   "metadata": {},
   "outputs": [],
   "source": [
    "import geopandas as gpd"
   ]
  },
  {
   "cell_type": "code",
   "execution_count": 2,
   "metadata": {},
   "outputs": [],
   "source": [
    "dat = gpd.read_file(\"/home/philipp/Code/python/edin_prediction/test/pred_deeplab_adj_age_3200.shp\")"
   ]
  },
  {
   "cell_type": "code",
   "execution_count": 3,
   "metadata": {},
   "outputs": [
    {
     "data": {
      "text/html": [
       "<div>\n",
       "<style scoped>\n",
       "    .dataframe tbody tr th:only-of-type {\n",
       "        vertical-align: middle;\n",
       "    }\n",
       "\n",
       "    .dataframe tbody tr th {\n",
       "        vertical-align: top;\n",
       "    }\n",
       "\n",
       "    .dataframe thead th {\n",
       "        text-align: right;\n",
       "    }\n",
       "</style>\n",
       "<table border=\"1\" class=\"dataframe\">\n",
       "  <thead>\n",
       "    <tr style=\"text-align: right;\">\n",
       "      <th></th>\n",
       "      <th>DF</th>\n",
       "      <th>geometry</th>\n",
       "    </tr>\n",
       "  </thead>\n",
       "  <tbody>\n",
       "    <tr>\n",
       "      <th>0</th>\n",
       "      <td>3</td>\n",
       "      <td>POLYGON ((434722.181 372899.950, 434722.981 37...</td>\n",
       "    </tr>\n",
       "    <tr>\n",
       "      <th>1</th>\n",
       "      <td>3</td>\n",
       "      <td>POLYGON ((434852.581 372903.150, 434858.381 37...</td>\n",
       "    </tr>\n",
       "    <tr>\n",
       "      <th>2</th>\n",
       "      <td>3</td>\n",
       "      <td>POLYGON ((435207.581 372886.550, 435207.781 37...</td>\n",
       "    </tr>\n",
       "    <tr>\n",
       "      <th>3</th>\n",
       "      <td>3</td>\n",
       "      <td>POLYGON ((434723.181 372879.550, 434723.981 37...</td>\n",
       "    </tr>\n",
       "    <tr>\n",
       "      <th>4</th>\n",
       "      <td>3</td>\n",
       "      <td>POLYGON ((435361.581 372874.950, 435361.781 37...</td>\n",
       "    </tr>\n",
       "    <tr>\n",
       "      <th>...</th>\n",
       "      <td>...</td>\n",
       "      <td>...</td>\n",
       "    </tr>\n",
       "    <tr>\n",
       "      <th>131119</th>\n",
       "      <td>0</td>\n",
       "      <td>POLYGON ((421347.981 350722.950, 421348.581 35...</td>\n",
       "    </tr>\n",
       "    <tr>\n",
       "      <th>131120</th>\n",
       "      <td>2</td>\n",
       "      <td>POLYGON ((421147.581 350723.150, 421150.781 35...</td>\n",
       "    </tr>\n",
       "    <tr>\n",
       "      <th>131121</th>\n",
       "      <td>3</td>\n",
       "      <td>POLYGON ((423163.581 354597.950, 423174.781 35...</td>\n",
       "    </tr>\n",
       "    <tr>\n",
       "      <th>131122</th>\n",
       "      <td>3</td>\n",
       "      <td>POLYGON ((421179.781 350720.950, 421180.381 35...</td>\n",
       "    </tr>\n",
       "    <tr>\n",
       "      <th>131123</th>\n",
       "      <td>2</td>\n",
       "      <td>POLYGON ((421444.981 351132.150, 421446.181 35...</td>\n",
       "    </tr>\n",
       "  </tbody>\n",
       "</table>\n",
       "<p>131124 rows × 2 columns</p>\n",
       "</div>"
      ],
      "text/plain": [
       "        DF                                           geometry\n",
       "0        3  POLYGON ((434722.181 372899.950, 434722.981 37...\n",
       "1        3  POLYGON ((434852.581 372903.150, 434858.381 37...\n",
       "2        3  POLYGON ((435207.581 372886.550, 435207.781 37...\n",
       "3        3  POLYGON ((434723.181 372879.550, 434723.981 37...\n",
       "4        3  POLYGON ((435361.581 372874.950, 435361.781 37...\n",
       "...     ..                                                ...\n",
       "131119   0  POLYGON ((421347.981 350722.950, 421348.581 35...\n",
       "131120   2  POLYGON ((421147.581 350723.150, 421150.781 35...\n",
       "131121   3  POLYGON ((423163.581 354597.950, 423174.781 35...\n",
       "131122   3  POLYGON ((421179.781 350720.950, 421180.381 35...\n",
       "131123   2  POLYGON ((421444.981 351132.150, 421446.181 35...\n",
       "\n",
       "[131124 rows x 2 columns]"
      ]
     },
     "execution_count": 3,
     "metadata": {},
     "output_type": "execute_result"
    }
   ],
   "source": [
    "dat"
   ]
  },
  {
   "cell_type": "code",
   "execution_count": 4,
   "metadata": {},
   "outputs": [],
   "source": [
    "dat['geometry'] = dat.translate(xoff=10.0, yoff=-10.0)"
   ]
  },
  {
   "cell_type": "code",
   "execution_count": 5,
   "metadata": {},
   "outputs": [
    {
     "data": {
      "text/html": [
       "<div>\n",
       "<style scoped>\n",
       "    .dataframe tbody tr th:only-of-type {\n",
       "        vertical-align: middle;\n",
       "    }\n",
       "\n",
       "    .dataframe tbody tr th {\n",
       "        vertical-align: top;\n",
       "    }\n",
       "\n",
       "    .dataframe thead th {\n",
       "        text-align: right;\n",
       "    }\n",
       "</style>\n",
       "<table border=\"1\" class=\"dataframe\">\n",
       "  <thead>\n",
       "    <tr style=\"text-align: right;\">\n",
       "      <th></th>\n",
       "      <th>DF</th>\n",
       "      <th>geometry</th>\n",
       "    </tr>\n",
       "  </thead>\n",
       "  <tbody>\n",
       "    <tr>\n",
       "      <th>0</th>\n",
       "      <td>3</td>\n",
       "      <td>POLYGON ((434732.181 372889.950, 434732.981 37...</td>\n",
       "    </tr>\n",
       "    <tr>\n",
       "      <th>1</th>\n",
       "      <td>3</td>\n",
       "      <td>POLYGON ((434862.581 372893.150, 434868.381 37...</td>\n",
       "    </tr>\n",
       "    <tr>\n",
       "      <th>2</th>\n",
       "      <td>3</td>\n",
       "      <td>POLYGON ((435217.581 372876.550, 435217.781 37...</td>\n",
       "    </tr>\n",
       "    <tr>\n",
       "      <th>3</th>\n",
       "      <td>3</td>\n",
       "      <td>POLYGON ((434733.181 372869.550, 434733.981 37...</td>\n",
       "    </tr>\n",
       "    <tr>\n",
       "      <th>4</th>\n",
       "      <td>3</td>\n",
       "      <td>POLYGON ((435371.581 372864.950, 435371.781 37...</td>\n",
       "    </tr>\n",
       "    <tr>\n",
       "      <th>...</th>\n",
       "      <td>...</td>\n",
       "      <td>...</td>\n",
       "    </tr>\n",
       "    <tr>\n",
       "      <th>131119</th>\n",
       "      <td>0</td>\n",
       "      <td>POLYGON ((421357.981 350712.950, 421358.581 35...</td>\n",
       "    </tr>\n",
       "    <tr>\n",
       "      <th>131120</th>\n",
       "      <td>2</td>\n",
       "      <td>POLYGON ((421157.581 350713.150, 421160.781 35...</td>\n",
       "    </tr>\n",
       "    <tr>\n",
       "      <th>131121</th>\n",
       "      <td>3</td>\n",
       "      <td>POLYGON ((423173.581 354587.950, 423184.781 35...</td>\n",
       "    </tr>\n",
       "    <tr>\n",
       "      <th>131122</th>\n",
       "      <td>3</td>\n",
       "      <td>POLYGON ((421189.781 350710.950, 421190.381 35...</td>\n",
       "    </tr>\n",
       "    <tr>\n",
       "      <th>131123</th>\n",
       "      <td>2</td>\n",
       "      <td>POLYGON ((421454.981 351122.150, 421456.181 35...</td>\n",
       "    </tr>\n",
       "  </tbody>\n",
       "</table>\n",
       "<p>131124 rows × 2 columns</p>\n",
       "</div>"
      ],
      "text/plain": [
       "        DF                                           geometry\n",
       "0        3  POLYGON ((434732.181 372889.950, 434732.981 37...\n",
       "1        3  POLYGON ((434862.581 372893.150, 434868.381 37...\n",
       "2        3  POLYGON ((435217.581 372876.550, 435217.781 37...\n",
       "3        3  POLYGON ((434733.181 372869.550, 434733.981 37...\n",
       "4        3  POLYGON ((435371.581 372864.950, 435371.781 37...\n",
       "...     ..                                                ...\n",
       "131119   0  POLYGON ((421357.981 350712.950, 421358.581 35...\n",
       "131120   2  POLYGON ((421157.581 350713.150, 421160.781 35...\n",
       "131121   3  POLYGON ((423173.581 354587.950, 423184.781 35...\n",
       "131122   3  POLYGON ((421189.781 350710.950, 421190.381 35...\n",
       "131123   2  POLYGON ((421454.981 351122.150, 421456.181 35...\n",
       "\n",
       "[131124 rows x 2 columns]"
      ]
     },
     "execution_count": 5,
     "metadata": {},
     "output_type": "execute_result"
    }
   ],
   "source": [
    "dat"
   ]
  },
  {
   "cell_type": "code",
   "execution_count": 6,
   "metadata": {},
   "outputs": [],
   "source": [
    "dat.to_file(\"/home/philipp/Code/python/edin_prediction/test/pred_deeplab_adj_age_3200.shp\")"
   ]
  },
  {
   "cell_type": "code",
   "execution_count": null,
   "metadata": {},
   "outputs": [],
   "source": []
  }
 ],
 "metadata": {
  "kernelspec": {
   "display_name": "geo",
   "language": "python",
   "name": "geo"
  },
  "language_info": {
   "codemirror_mode": {
    "name": "ipython",
    "version": 3
   },
   "file_extension": ".py",
   "mimetype": "text/x-python",
   "name": "python",
   "nbconvert_exporter": "python",
   "pygments_lexer": "ipython3",
   "version": "3.8.2"
  }
 },
 "nbformat": 4,
 "nbformat_minor": 4
}
