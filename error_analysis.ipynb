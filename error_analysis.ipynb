{
 "cells": [
  {
   "cell_type": "code",
   "execution_count": 1,
   "metadata": {},
   "outputs": [],
   "source": [
    "%matplotlib inline\n",
    "\n",
    "import os\n",
    "import numpy as np\n",
    "import pandas as pd\n",
    "import geopandas as gpd\n",
    "import matplotlib"
   ]
  },
  {
   "cell_type": "code",
   "execution_count": 2,
   "metadata": {},
   "outputs": [],
   "source": [
    "path = '/home/philipp/Documents/results/union_gt_deeplab.shp'\n",
    "data = gpd.read_file(path)"
   ]
  },
  {
   "cell_type": "code",
   "execution_count": 3,
   "metadata": {},
   "outputs": [],
   "source": [
    "data['errors'] = 0"
   ]
  },
  {
   "cell_type": "code",
   "execution_count": 8,
   "metadata": {},
   "outputs": [],
   "source": [
    "data.loc[data['typ'] == data['DF'], 'errors'] = 1\n",
    "data.loc[(data['typ'] == 1) & (data['DF'] != 1), 'errors'] = 2 # FN\n",
    "data.loc[(data['typ'] != 1) & (data['DF'] == 1), 'errors'] = 3 # FP"
   ]
  },
  {
   "cell_type": "code",
   "execution_count": 9,
   "metadata": {
    "scrolled": true
   },
   "outputs": [
    {
     "data": {
      "text/html": [
       "<div>\n",
       "<style scoped>\n",
       "    .dataframe tbody tr th:only-of-type {\n",
       "        vertical-align: middle;\n",
       "    }\n",
       "\n",
       "    .dataframe tbody tr th {\n",
       "        vertical-align: top;\n",
       "    }\n",
       "\n",
       "    .dataframe thead th {\n",
       "        text-align: right;\n",
       "    }\n",
       "</style>\n",
       "<table border=\"1\" class=\"dataframe\">\n",
       "  <thead>\n",
       "    <tr style=\"text-align: right;\">\n",
       "      <th></th>\n",
       "      <th>fb</th>\n",
       "      <th>fr</th>\n",
       "      <th>abt</th>\n",
       "      <th>uabt</th>\n",
       "      <th>teilfl</th>\n",
       "      <th>admin</th>\n",
       "      <th>length</th>\n",
       "      <th>area</th>\n",
       "      <th>fly_date</th>\n",
       "      <th>year_fly</th>\n",
       "      <th>...</th>\n",
       "      <th>fly_d</th>\n",
       "      <th>cut_ma</th>\n",
       "      <th>cut_v_lh</th>\n",
       "      <th>cut_v_nh</th>\n",
       "      <th>cut_v_nan</th>\n",
       "      <th>cut_v_tot</th>\n",
       "      <th>typ</th>\n",
       "      <th>DF</th>\n",
       "      <th>geometry</th>\n",
       "      <th>errors</th>\n",
       "    </tr>\n",
       "  </thead>\n",
       "  <tbody>\n",
       "    <tr>\n",
       "      <th>0</th>\n",
       "      <td>177.0</td>\n",
       "      <td>6.0</td>\n",
       "      <td>144.0</td>\n",
       "      <td>A</td>\n",
       "      <td>2.0</td>\n",
       "      <td>609.0</td>\n",
       "      <td>1180.373535</td>\n",
       "      <td>24672.718591</td>\n",
       "      <td>26.06.2019</td>\n",
       "      <td>2019.0</td>\n",
       "      <td>...</td>\n",
       "      <td>26.0</td>\n",
       "      <td>None</td>\n",
       "      <td>0.0</td>\n",
       "      <td>0.0</td>\n",
       "      <td>0.0</td>\n",
       "      <td>0.0</td>\n",
       "      <td>2.0</td>\n",
       "      <td>2.0</td>\n",
       "      <td>POLYGON ((448309.981 360969.639, 448303.600 36...</td>\n",
       "      <td>1</td>\n",
       "    </tr>\n",
       "    <tr>\n",
       "      <th>1</th>\n",
       "      <td>177.0</td>\n",
       "      <td>6.0</td>\n",
       "      <td>1.0</td>\n",
       "      <td>3</td>\n",
       "      <td>1.0</td>\n",
       "      <td>609.0</td>\n",
       "      <td>3286.208496</td>\n",
       "      <td>16713.772903</td>\n",
       "      <td>03.07.2018</td>\n",
       "      <td>2018.0</td>\n",
       "      <td>...</td>\n",
       "      <td>3.0</td>\n",
       "      <td>None</td>\n",
       "      <td>0.0</td>\n",
       "      <td>0.0</td>\n",
       "      <td>0.0</td>\n",
       "      <td>0.0</td>\n",
       "      <td>3.0</td>\n",
       "      <td>0.0</td>\n",
       "      <td>POLYGON ((444250.867 360818.550, 444251.981 36...</td>\n",
       "      <td>0</td>\n",
       "    </tr>\n",
       "    <tr>\n",
       "      <th>2</th>\n",
       "      <td>177.0</td>\n",
       "      <td>6.0</td>\n",
       "      <td>1.0</td>\n",
       "      <td>3</td>\n",
       "      <td>1.0</td>\n",
       "      <td>609.0</td>\n",
       "      <td>3286.208496</td>\n",
       "      <td>16713.772903</td>\n",
       "      <td>03.07.2018</td>\n",
       "      <td>2018.0</td>\n",
       "      <td>...</td>\n",
       "      <td>3.0</td>\n",
       "      <td>None</td>\n",
       "      <td>0.0</td>\n",
       "      <td>0.0</td>\n",
       "      <td>0.0</td>\n",
       "      <td>0.0</td>\n",
       "      <td>3.0</td>\n",
       "      <td>2.0</td>\n",
       "      <td>POLYGON ((444186.581 360806.361, 444186.680 36...</td>\n",
       "      <td>0</td>\n",
       "    </tr>\n",
       "    <tr>\n",
       "      <th>3</th>\n",
       "      <td>177.0</td>\n",
       "      <td>6.0</td>\n",
       "      <td>1.0</td>\n",
       "      <td>3</td>\n",
       "      <td>1.0</td>\n",
       "      <td>609.0</td>\n",
       "      <td>3286.208496</td>\n",
       "      <td>16713.772903</td>\n",
       "      <td>03.07.2018</td>\n",
       "      <td>2018.0</td>\n",
       "      <td>...</td>\n",
       "      <td>3.0</td>\n",
       "      <td>None</td>\n",
       "      <td>0.0</td>\n",
       "      <td>0.0</td>\n",
       "      <td>0.0</td>\n",
       "      <td>0.0</td>\n",
       "      <td>3.0</td>\n",
       "      <td>1.0</td>\n",
       "      <td>MULTIPOLYGON (((444182.381 360806.091, 444185....</td>\n",
       "      <td>3</td>\n",
       "    </tr>\n",
       "    <tr>\n",
       "      <th>4</th>\n",
       "      <td>177.0</td>\n",
       "      <td>6.0</td>\n",
       "      <td>1.0</td>\n",
       "      <td>3</td>\n",
       "      <td>1.0</td>\n",
       "      <td>609.0</td>\n",
       "      <td>3286.208496</td>\n",
       "      <td>16713.772903</td>\n",
       "      <td>03.07.2018</td>\n",
       "      <td>2018.0</td>\n",
       "      <td>...</td>\n",
       "      <td>3.0</td>\n",
       "      <td>None</td>\n",
       "      <td>0.0</td>\n",
       "      <td>0.0</td>\n",
       "      <td>0.0</td>\n",
       "      <td>0.0</td>\n",
       "      <td>3.0</td>\n",
       "      <td>2.0</td>\n",
       "      <td>POLYGON ((444057.781 360799.694, 444059.381 36...</td>\n",
       "      <td>0</td>\n",
       "    </tr>\n",
       "    <tr>\n",
       "      <th>...</th>\n",
       "      <td>...</td>\n",
       "      <td>...</td>\n",
       "      <td>...</td>\n",
       "      <td>...</td>\n",
       "      <td>...</td>\n",
       "      <td>...</td>\n",
       "      <td>...</td>\n",
       "      <td>...</td>\n",
       "      <td>...</td>\n",
       "      <td>...</td>\n",
       "      <td>...</td>\n",
       "      <td>...</td>\n",
       "      <td>...</td>\n",
       "      <td>...</td>\n",
       "      <td>...</td>\n",
       "      <td>...</td>\n",
       "      <td>...</td>\n",
       "      <td>...</td>\n",
       "      <td>...</td>\n",
       "      <td>...</td>\n",
       "      <td>...</td>\n",
       "    </tr>\n",
       "    <tr>\n",
       "      <th>87714</th>\n",
       "      <td>NaN</td>\n",
       "      <td>NaN</td>\n",
       "      <td>NaN</td>\n",
       "      <td>None</td>\n",
       "      <td>NaN</td>\n",
       "      <td>NaN</td>\n",
       "      <td>NaN</td>\n",
       "      <td>NaN</td>\n",
       "      <td>None</td>\n",
       "      <td>NaN</td>\n",
       "      <td>...</td>\n",
       "      <td>NaN</td>\n",
       "      <td>None</td>\n",
       "      <td>NaN</td>\n",
       "      <td>NaN</td>\n",
       "      <td>NaN</td>\n",
       "      <td>NaN</td>\n",
       "      <td>NaN</td>\n",
       "      <td>1.0</td>\n",
       "      <td>POLYGON ((436070.981 367416.950, 436071.981 36...</td>\n",
       "      <td>3</td>\n",
       "    </tr>\n",
       "    <tr>\n",
       "      <th>87715</th>\n",
       "      <td>NaN</td>\n",
       "      <td>NaN</td>\n",
       "      <td>NaN</td>\n",
       "      <td>None</td>\n",
       "      <td>NaN</td>\n",
       "      <td>NaN</td>\n",
       "      <td>NaN</td>\n",
       "      <td>NaN</td>\n",
       "      <td>None</td>\n",
       "      <td>NaN</td>\n",
       "      <td>...</td>\n",
       "      <td>NaN</td>\n",
       "      <td>None</td>\n",
       "      <td>NaN</td>\n",
       "      <td>NaN</td>\n",
       "      <td>NaN</td>\n",
       "      <td>NaN</td>\n",
       "      <td>NaN</td>\n",
       "      <td>2.0</td>\n",
       "      <td>POLYGON ((436322.781 367419.350, 436323.781 36...</td>\n",
       "      <td>0</td>\n",
       "    </tr>\n",
       "    <tr>\n",
       "      <th>87716</th>\n",
       "      <td>NaN</td>\n",
       "      <td>NaN</td>\n",
       "      <td>NaN</td>\n",
       "      <td>None</td>\n",
       "      <td>NaN</td>\n",
       "      <td>NaN</td>\n",
       "      <td>NaN</td>\n",
       "      <td>NaN</td>\n",
       "      <td>None</td>\n",
       "      <td>NaN</td>\n",
       "      <td>...</td>\n",
       "      <td>NaN</td>\n",
       "      <td>None</td>\n",
       "      <td>NaN</td>\n",
       "      <td>NaN</td>\n",
       "      <td>NaN</td>\n",
       "      <td>NaN</td>\n",
       "      <td>NaN</td>\n",
       "      <td>2.0</td>\n",
       "      <td>POLYGON ((436299.381 367408.950, 436299.581 36...</td>\n",
       "      <td>0</td>\n",
       "    </tr>\n",
       "    <tr>\n",
       "      <th>87717</th>\n",
       "      <td>NaN</td>\n",
       "      <td>NaN</td>\n",
       "      <td>NaN</td>\n",
       "      <td>None</td>\n",
       "      <td>NaN</td>\n",
       "      <td>NaN</td>\n",
       "      <td>NaN</td>\n",
       "      <td>NaN</td>\n",
       "      <td>None</td>\n",
       "      <td>NaN</td>\n",
       "      <td>...</td>\n",
       "      <td>NaN</td>\n",
       "      <td>None</td>\n",
       "      <td>NaN</td>\n",
       "      <td>NaN</td>\n",
       "      <td>NaN</td>\n",
       "      <td>NaN</td>\n",
       "      <td>NaN</td>\n",
       "      <td>2.0</td>\n",
       "      <td>POLYGON ((436311.581 367408.750, 436311.781 36...</td>\n",
       "      <td>0</td>\n",
       "    </tr>\n",
       "    <tr>\n",
       "      <th>87718</th>\n",
       "      <td>NaN</td>\n",
       "      <td>NaN</td>\n",
       "      <td>NaN</td>\n",
       "      <td>None</td>\n",
       "      <td>NaN</td>\n",
       "      <td>NaN</td>\n",
       "      <td>NaN</td>\n",
       "      <td>NaN</td>\n",
       "      <td>None</td>\n",
       "      <td>NaN</td>\n",
       "      <td>...</td>\n",
       "      <td>NaN</td>\n",
       "      <td>None</td>\n",
       "      <td>NaN</td>\n",
       "      <td>NaN</td>\n",
       "      <td>NaN</td>\n",
       "      <td>NaN</td>\n",
       "      <td>NaN</td>\n",
       "      <td>2.0</td>\n",
       "      <td>POLYGON ((436313.181 367407.750, 436313.381 36...</td>\n",
       "      <td>0</td>\n",
       "    </tr>\n",
       "  </tbody>\n",
       "</table>\n",
       "<p>87719 rows × 67 columns</p>\n",
       "</div>"
      ],
      "text/plain": [
       "          fb   fr    abt  uabt  teilfl  admin       length          area  \\\n",
       "0      177.0  6.0  144.0     A     2.0  609.0  1180.373535  24672.718591   \n",
       "1      177.0  6.0    1.0     3     1.0  609.0  3286.208496  16713.772903   \n",
       "2      177.0  6.0    1.0     3     1.0  609.0  3286.208496  16713.772903   \n",
       "3      177.0  6.0    1.0     3     1.0  609.0  3286.208496  16713.772903   \n",
       "4      177.0  6.0    1.0     3     1.0  609.0  3286.208496  16713.772903   \n",
       "...      ...  ...    ...   ...     ...    ...          ...           ...   \n",
       "87714    NaN  NaN    NaN  None     NaN    NaN          NaN           NaN   \n",
       "87715    NaN  NaN    NaN  None     NaN    NaN          NaN           NaN   \n",
       "87716    NaN  NaN    NaN  None     NaN    NaN          NaN           NaN   \n",
       "87717    NaN  NaN    NaN  None     NaN    NaN          NaN           NaN   \n",
       "87718    NaN  NaN    NaN  None     NaN    NaN          NaN           NaN   \n",
       "\n",
       "         fly_date  year_fly  ... fly_d  cut_ma  cut_v_lh  cut_v_nh cut_v_nan  \\\n",
       "0      26.06.2019    2019.0  ...  26.0    None       0.0       0.0       0.0   \n",
       "1      03.07.2018    2018.0  ...   3.0    None       0.0       0.0       0.0   \n",
       "2      03.07.2018    2018.0  ...   3.0    None       0.0       0.0       0.0   \n",
       "3      03.07.2018    2018.0  ...   3.0    None       0.0       0.0       0.0   \n",
       "4      03.07.2018    2018.0  ...   3.0    None       0.0       0.0       0.0   \n",
       "...           ...       ...  ...   ...     ...       ...       ...       ...   \n",
       "87714        None       NaN  ...   NaN    None       NaN       NaN       NaN   \n",
       "87715        None       NaN  ...   NaN    None       NaN       NaN       NaN   \n",
       "87716        None       NaN  ...   NaN    None       NaN       NaN       NaN   \n",
       "87717        None       NaN  ...   NaN    None       NaN       NaN       NaN   \n",
       "87718        None       NaN  ...   NaN    None       NaN       NaN       NaN   \n",
       "\n",
       "       cut_v_tot  typ   DF                                           geometry  \\\n",
       "0            0.0  2.0  2.0  POLYGON ((448309.981 360969.639, 448303.600 36...   \n",
       "1            0.0  3.0  0.0  POLYGON ((444250.867 360818.550, 444251.981 36...   \n",
       "2            0.0  3.0  2.0  POLYGON ((444186.581 360806.361, 444186.680 36...   \n",
       "3            0.0  3.0  1.0  MULTIPOLYGON (((444182.381 360806.091, 444185....   \n",
       "4            0.0  3.0  2.0  POLYGON ((444057.781 360799.694, 444059.381 36...   \n",
       "...          ...  ...  ...                                                ...   \n",
       "87714        NaN  NaN  1.0  POLYGON ((436070.981 367416.950, 436071.981 36...   \n",
       "87715        NaN  NaN  2.0  POLYGON ((436322.781 367419.350, 436323.781 36...   \n",
       "87716        NaN  NaN  2.0  POLYGON ((436299.381 367408.950, 436299.581 36...   \n",
       "87717        NaN  NaN  2.0  POLYGON ((436311.581 367408.750, 436311.781 36...   \n",
       "87718        NaN  NaN  2.0  POLYGON ((436313.181 367407.750, 436313.381 36...   \n",
       "\n",
       "      errors  \n",
       "0          1  \n",
       "1          0  \n",
       "2          0  \n",
       "3          3  \n",
       "4          0  \n",
       "...      ...  \n",
       "87714      3  \n",
       "87715      0  \n",
       "87716      0  \n",
       "87717      0  \n",
       "87718      0  \n",
       "\n",
       "[87719 rows x 67 columns]"
      ]
     },
     "execution_count": 9,
     "metadata": {},
     "output_type": "execute_result"
    }
   ],
   "source": [
    "data"
   ]
  },
  {
   "cell_type": "code",
   "execution_count": 2,
   "metadata": {},
   "outputs": [],
   "source": [
    "# save to file\n",
    "path = '/home/philipp/Documents/results/errors_deeplab.shp'\n",
    "#data.to_file(\"/home/philipp/Documents/results/errors_deeplab.shp\")\n",
    "data = gpd.read_file(path)"
   ]
  },
  {
   "cell_type": "code",
   "execution_count": 3,
   "metadata": {},
   "outputs": [],
   "source": [
    "data_t = data[data['errors'] == 1]\n",
    "data_fn = data[data['errors'] == 2]\n",
    "data_fp = data[data['errors'] == 3]"
   ]
  },
  {
   "cell_type": "code",
   "execution_count": 4,
   "metadata": {},
   "outputs": [
    {
     "name": "stdout",
     "output_type": "stream",
     "text": [
      "count    22984.000000\n",
      "mean        64.793117\n",
      "std         53.739663\n",
      "min          1.000000\n",
      "25%         26.000000\n",
      "50%         51.000000\n",
      "75%         90.000000\n",
      "max        271.000000\n",
      "Name: age, dtype: float64\n",
      "count    14025.000000\n",
      "mean        57.494688\n",
      "std         22.767009\n",
      "min         11.000000\n",
      "25%         40.000000\n",
      "50%         55.000000\n",
      "75%         71.000000\n",
      "max        231.000000\n",
      "Name: age, dtype: float64\n",
      "count    23946.000000\n",
      "mean        71.169047\n",
      "std         67.835106\n",
      "min          1.000000\n",
      "25%         11.000000\n",
      "50%         46.000000\n",
      "75%        126.000000\n",
      "max        267.000000\n",
      "Name: age, dtype: float64\n"
     ]
    }
   ],
   "source": [
    "print(data_t['age'].describe())\n",
    "print(data_fn['age'].describe())\n",
    "print(data_fp['age'].describe())"
   ]
  },
  {
   "cell_type": "code",
   "execution_count": 3,
   "metadata": {},
   "outputs": [],
   "source": [
    "data['age_mass'] = data['mass_ha']/data['age']"
   ]
  },
  {
   "cell_type": "code",
   "execution_count": 4,
   "metadata": {},
   "outputs": [
    {
     "data": {
      "text/plain": [
       "Index(['fb', 'fr', 'abt', 'uabt', 'teilfl', 'admin', 'length', 'area',\n",
       "       'fly_date', 'year_fly', 'WO', 'fb_sap', 'fr_sap', 'abt_sap', 'uabt_sap',\n",
       "       'teilfl_sap', 'start_term', 'uz', 'non_forest', 'economy', 'ww_sw',\n",
       "       'sw_type', 'sea_level', 'exp', 'slope', 'site_type', 'veg_type',\n",
       "       'growth_are', 'age', 'BL', 'FI', 'LH', 'NH', 'LA', 'KI', 'DG', 'SK',\n",
       "       'mass_ha', 'mass_ha_lh', 'mass_ha_nh', 'mass_tot', 'mass_tot_l',\n",
       "       'mass_tot_n', 'cut_area', 'cut_lh', 'cut_nh', 'cut_sum', 'dr', 'bp',\n",
       "       'zp', 'ru', 'sg', 'ma', 'year_fe', 'age_diff', 'fly_y', 'fly_m',\n",
       "       'fly_d', 'cut_ma', 'cut_v_lh', 'cut_v_nh', 'cut_v_nan', 'cut_v_tot',\n",
       "       'typ', 'DF', 'errors', 'geometry', 'age_mass'],\n",
       "      dtype='object')"
      ]
     },
     "execution_count": 4,
     "metadata": {},
     "output_type": "execute_result"
    }
   ],
   "source": [
    "data.columns"
   ]
  },
  {
   "cell_type": "code",
   "execution_count": 5,
   "metadata": {},
   "outputs": [
    {
     "data": {
      "text/plain": [
       "array([[<AxesSubplot:title={'center':'0'}>,\n",
       "        <AxesSubplot:title={'center':'1'}>],\n",
       "       [<AxesSubplot:title={'center':'2'}>,\n",
       "        <AxesSubplot:title={'center':'3'}>]], dtype=object)"
      ]
     },
     "execution_count": 5,
     "metadata": {},
     "output_type": "execute_result"
    },
    {
     "data": {
      "image/png": "[encoded data removed]",
      "text/plain": [
       "<Figure size 432x288 with 4 Axes>"
      ]
     },
     "metadata": {
      "needs_background": "light"
     },
     "output_type": "display_data"
    }
   ],
   "source": [
    "data.hist(column='age', by='errors', bins=50)"
   ]
  },
  {
   "cell_type": "code",
   "execution_count": 6,
   "metadata": {},
   "outputs": [
    {
     "data": {
      "text/plain": [
       "array([[<AxesSubplot:title={'center':'0'}>,\n",
       "        <AxesSubplot:title={'center':'1'}>],\n",
       "       [<AxesSubplot:title={'center':'2'}>,\n",
       "        <AxesSubplot:title={'center':'3'}>]], dtype=object)"
      ]
     },
     "execution_count": 6,
     "metadata": {},
     "output_type": "execute_result"
    },
    {
     "data": {
      "image/png": "[encoded data removed]",
      "text/plain": [
       "<Figure size 432x288 with 4 Axes>"
      ]
     },
     "metadata": {
      "needs_background": "light"
     },
     "output_type": "display_data"
    }
   ],
   "source": [
    "data.hist(column='mass_ha', by='errors', bins=20)"
   ]
  },
  {
   "cell_type": "code",
   "execution_count": 7,
   "metadata": {},
   "outputs": [
    {
     "data": {
      "text/plain": [
       "array([[<AxesSubplot:title={'center':'0'}>,\n",
       "        <AxesSubplot:title={'center':'1'}>],\n",
       "       [<AxesSubplot:title={'center':'2'}>,\n",
       "        <AxesSubplot:title={'center':'3'}>]], dtype=object)"
      ]
     },
     "execution_count": 7,
     "metadata": {},
     "output_type": "execute_result"
    },
    {
     "data": {
      "image/png": "[encoded data removed]",
      "text/plain": [
       "<Figure size 432x288 with 4 Axes>"
      ]
     },
     "metadata": {
      "needs_background": "light"
     },
     "output_type": "display_data"
    }
   ],
   "source": [
    "data.hist(column='age_mass', by='errors', bins=30)"
   ]
  },
  {
   "cell_type": "code",
   "execution_count": 8,
   "metadata": {},
   "outputs": [],
   "source": [
    "data['flag'] = 0\n",
    "\n",
    "data.loc[(data['age']<11) & (data['errors']==1), 'flag'] = 1\n",
    "data.loc[(data['age']<11) & (data['errors']==2), 'flag'] = 2\n",
    "data.loc[(data['age']<11) & (data['errors']==3), 'flag'] = 3\n",
    "\n",
    "data.loc[(data['age']>100) & (data['errors']==1), 'flag'] = 10\n",
    "data.loc[(data['age']>100) & (data['errors']==2), 'flag'] = 20\n",
    "data.loc[(data['age']>100) & (data['errors']==3), 'flag'] = 30"
   ]
  },
  {
   "cell_type": "code",
   "execution_count": 13,
   "metadata": {},
   "outputs": [
    {
     "data": {
      "text/plain": [
       "14.776148560409627"
      ]
     },
     "execution_count": 13,
     "metadata": {},
     "output_type": "execute_result"
    }
   ],
   "source": [
    "data.loc[0,'geometry'].area "
   ]
  },
  {
   "cell_type": "code",
   "execution_count": 14,
   "metadata": {
    "scrolled": true
   },
   "outputs": [],
   "source": [
    "data.loc[data.loc[:,'geometry'].area<200, 'flag'] = 0"
   ]
  },
  {
   "cell_type": "code",
   "execution_count": 15,
   "metadata": {},
   "outputs": [],
   "source": [
    "# save to file\n",
    "path = '/home/philipp/Documents/results/errors_deeplab.shp'\n",
    "data.to_file(path)"
   ]
  },
  {
   "cell_type": "code",
   "execution_count": null,
   "metadata": {},
   "outputs": [],
   "source": [
    "data.pivot_table(values='X', rows='Y', cols='Z', aggfunc=lambda x: len(x.unique())"
   ]
  },
  {
   "cell_type": "code",
   "execution_count": null,
   "metadata": {},
   "outputs": [],
   "source": []
  }
 ],
 "metadata": {
  "kernelspec": {
   "display_name": "geopd",
   "language": "python",
   "name": "geopd"
  },
  "language_info": {
   "codemirror_mode": {
    "name": "ipython",
    "version": 3
   },
   "file_extension": ".py",
   "mimetype": "text/x-python",
   "name": "python",
   "nbconvert_exporter": "python",
   "pygments_lexer": "ipython3",
   "version": "3.7.7"
  }
 },
 "nbformat": 4,
 "nbformat_minor": 4
}
